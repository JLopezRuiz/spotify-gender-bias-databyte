{
 "cells": [
  {
   "cell_type": "markdown",
   "metadata": {},
   "source": [
    "# Data Byte: Data Collection\n",
    "\n",
    "Since Spotify does not store snapshots of the past playlist, we collected our data by scraping a GitHub repository created by 'mackorone' using BeautifulSoup. We collected biweekly records of Today's Top Hits from May 2019 to November 2020 and gathered 37 samples of the playlist's information.\n",
    "\n",
    "**Table of Contents**\n",
    "\n",
    "[1. Retrieve playlist information.](#part1)  \n",
    "[2. Parse necessary information for each track.](#part2)"
   ]
  },
  {
   "cell_type": "markdown",
   "metadata": {},
   "source": [
    "<a id = \"part1\"></a>\n",
    "## 1. Retrieve playlist information"
   ]
  },
  {
   "cell_type": "code",
   "execution_count": 1,
   "metadata": {},
   "outputs": [],
   "source": [
    "from bs4 import BeautifulSoup as BS\n",
    "import requests\n",
    "import pandas as pd"
   ]
  },
  {
   "cell_type": "markdown",
   "metadata": {},
   "source": [
    "First, we will retrieve the playlist information, which is stored in a table in the Github repositories. "
   ]
  },
  {
   "cell_type": "code",
   "execution_count": 2,
   "metadata": {},
   "outputs": [],
   "source": [
    "def getPlaylistFromGithub(playlist):\n",
    "    \"\"\"Given the playlist name (the way it's listed in GitHub), retrieves\n",
    "    table within that playlists's GitHub page and returns the table information\"\"\"\n",
    "    url = \"https://github.com/mackorone/spotify-playlist-archive/blob/\" + playlist + \"/playlists/pretty/Today's%20Top%20Hits.md\"\n",
    "    page = requests.get(url)\n",
    "    if page.status_code == 200:\n",
    "        html = page.content\n",
    "    soup = BS(html, 'html.parser')\n",
    "    \n",
    "    # table within the GitHub page\n",
    "    table = soup.select('tr')\n",
    "    return table"
   ]
  },
  {
   "cell_type": "markdown",
   "metadata": {},
   "source": [
    "<a id = \"part2\"></a>\n",
    "## 2. Parse necessary information for each track."
   ]
  },
  {
   "cell_type": "markdown",
   "metadata": {},
   "source": [
    "Then, we will parse the title, artists, album, and length of each song in the playlist and store them in a dictionary."
   ]
  },
  {
   "cell_type": "code",
   "execution_count": 3,
   "metadata": {},
   "outputs": [],
   "source": [
    "def getPlaylistInfo(table):\n",
    "    \"\"\"Given the return value of `getPlaylistFromGitHub`, return a list of dictionaries\n",
    "    containing the song title, artists, album, and length information\"\"\"\n",
    "    songs = []\n",
    "    for i in range(len(table)-1):\n",
    "        title = table[i+1].text.split('\\n')[2]\n",
    "        artists = table[i+1].text.split('\\n')[3]\n",
    "        album = table[i+1].text.split('\\n')[4]\n",
    "        length = table[i+1].text.split('\\n')[5]\n",
    "        songs.append({'title': title, 'artists': artists, 'album': album, 'length': length})#, 'added': added, 'removed': removed})\n",
    "    return songs"
   ]
  },
  {
   "cell_type": "code",
   "execution_count": 4,
   "metadata": {},
   "outputs": [],
   "source": [
    "# playlist: Todays' Top Hits\n",
    "todaysTop = getPlaylistFromGithub('1a972ef883634023dd315b589e705b16d187442e')\n",
    "tth = getPlaylistInfo(todaysTop)\n",
    "tthDF = pd.DataFrame(tth)\n",
    "#tthDF"
   ]
  },
  {
   "cell_type": "markdown",
   "metadata": {},
   "source": [
    "Here is a dictionary of the month names as the keys and the id for each commit as the values."
   ]
  },
  {
   "cell_type": "code",
   "execution_count": 5,
   "metadata": {},
   "outputs": [],
   "source": [
    "# commit id for 28th of every month from May 2019 to November 2020\n",
    "# if 28th commit didn't exist for that month, took the next commit\n",
    "monthlyCommits = {'may2019': 'd4c373c74e7c4dbf3004435b9e4733fd994699fb', #May 2019\n",
    "                  'june2019-1': '0f48878275890dd20e963c768ce45138cfc37a7a', #June 2019-1\n",
    "                  'june2019-2': '4a21f7ffe48955c822c709b19d4dd8e4cda9631b', #June 2019-2\n",
    "                  'july2019-1': '6ecdadae5d8bcfe6852c3cec1bd614c877044b60', #July 2019-1\n",
    "                  'july2019-2': 'e40d37319e60e0586153357bccdbbf39fbb68b12', #July 2019-2\n",
    "                  'august2019-1': '900e042c48145fbc4ace1c668c1d3817fa2494bb', #August 2019-1\n",
    "                  'august2019-2': '41843e09f3ff3389a3acedcf710918e677bc5f3f', #August 2019-2\n",
    "                  'september2019-1': 'd17998dead23215a97c6a4b20f6fe0ac941134ad', #September 2019-1\n",
    "                  'september2019-2': 'b7d480c845f926e9f33a5d20b5d66e286fe9e4a4', #September 2019-2\n",
    "                  'october2019-1': '043539ae2b86bd2e2bf5dc8fd3fd351b4a34cc12', #October 2019-1\n",
    "                  'october2019-2': '0d873696f41d459d548fb899a42104b476957a07', #October 2019-2\n",
    "                  'november2019-1': '128805b335b12f8566159ce2fefef2d23343097f', #November 2019-1\n",
    "                  'november2019-2': 'b65de83d33bb8028f0b66a8877ae6fabd34e625e', #November 2019-2\n",
    "                  'december2019-1': '2094f71696631bc0881fa6012b08306808f35090', #December 2019-1\n",
    "                  'december2019-2': '1db71f230d06835de51a1c5d0b2d38f28e2c5f89', #December 2019-2\n",
    "                  'january2020-1': 'f462fb82ce7bbafca83b54bd89253e299241eb00', #January 2020-1\n",
    "                  'january2020-2': '8b0e86bad54b88ca89447a12c5a23b25fafec04c', #January 2020-2\n",
    "                  'february2020-1': '704e53c5f62ac10755f4db958d4b777a4d5b3ce1', #February 2020-1\n",
    "                  'february2020-2': '36f06df68be728dcb019e11dad27112cf36439c2', #February 2020-2\n",
    "                  'march2020-1': 'e10cc5f1db357c6bd540f978cef71129fd34e00f', #March 2020-1\n",
    "                  'march2020-2': '029e7078e14c45850166f635269ae3d863ced894', #March 2020-2\n",
    "                  'april2020-1': '1449078946633df471680b380d8ae2b384028f9e', #April 2020-1\n",
    "                  'april2020-2': '67ab822110b8e3ecae0a2fcedc6ea59f32c84fea', #April 2020-2\n",
    "                  'may2020-1': '84ad876825d500aecb4d97b3bd8c414054a741ec', #May 2020-1\n",
    "                  'may2020-2': '6fea2c8733ce6922bfad499230e6a958e9cbd7b0', #May 2020-2\n",
    "                  'june2020-1': '856dce0eeb9b17183034e0f2287a8eb67943a4fa', #June 2020-1\n",
    "                  'june2020-2': '8c36997e8e75ee73b7756139b709ea441125e2f1', #June 2020-2\n",
    "                  'july2020-1': '7bade34044ee85c18c3e7f3a060c30803e86cda6', #July 2020-1\n",
    "                  'july2020-2': 'cb3c9cfd20f7e039612f6d5fe6f50ffc8953e49e', #July 2020-2\n",
    "                  'august2020-1': '52b37a0b7704e750a9e2561b658afc2560d1eb90', #August 2020-1\n",
    "                  'august2020-2': '19637f1a4416683982f34a7ca515d09b7ec396bf', #August 2020-2\n",
    "                  'september2020-1': '1244511ba996fea7c3bc97a6b9d7ec92545ec5bd', #September 2020-1\n",
    "                  'september2020-2': '1b7ff6c4937c2640fbc616ace1a63e5b65655314', #September 2020-2\n",
    "                  'october2020-1': '84c8253972b2d7870728e9ca6e03c8a3b9065d49', #October 2020-1\n",
    "                  'october2020-2': '325572432bea7b429c19be84c8615b9f4da511a9', #October 2020-2\n",
    "                  'november2020-1': '00b8d94f572c78af470580a93a0f7cf71080cb70', #November 2020-1\n",
    "                  'november2020-2': '1a972ef883634023dd315b589e705b16d187442e'} #November 2020-2"
   ]
  },
  {
   "cell_type": "markdown",
   "metadata": {},
   "source": [
    "We will loop through the dictionary to retrieve the playlist information from the respective GitHub commit page, parse the necessary information (track title, artists, album, track length), store them in a DataFrame, and save these DataFrames as .csv files."
   ]
  },
  {
   "cell_type": "code",
   "execution_count": 6,
   "metadata": {},
   "outputs": [
    {
     "name": "stdout",
     "output_type": "stream",
     "text": [
      "['may2019', 'june2019-1', 'june2019-2', 'july2019-1', 'july2019-2', 'august2019-1', 'august2019-2', 'september2019-1', 'september2019-2', 'october2019-1', 'october2019-2', 'november2019-1', 'november2019-2', 'december2019-1', 'december2019-2', 'january2020-1', 'january2020-2', 'february2020-1', 'february2020-2', 'march2020-1', 'march2020-2', 'april2020-1', 'april2020-2', 'may2020-1', 'may2020-2', 'june2020-1', 'june2020-2', 'july2020-1', 'july2020-2', 'august2020-1', 'august2020-2', 'september2020-1', 'september2020-2', 'october2020-1', 'october2020-2', 'november2020-1', 'november2020-2']\n"
     ]
    }
   ],
   "source": [
    "months = list(monthlyCommits.keys())\n",
    "print(months)\n",
    "ids = list(monthlyCommits.values())\n",
    "for i in range(len(months)):\n",
    "    try:\n",
    "        playlist = getPlaylistFromGithub(ids[i])\n",
    "        playInfo = getPlaylistInfo(playlist)\n",
    "        playDF = pd.DataFrame(playInfo)\n",
    "        csv_name = months[i] + '.csv'\n",
    "        playDF.to_csv(csv_name)\n",
    "    except(UnboundLocalError):\n",
    "        print('N/A')"
   ]
  }
 ],
 "metadata": {
  "kernelspec": {
   "display_name": "Python 3",
   "language": "python",
   "name": "python3"
  },
  "language_info": {
   "codemirror_mode": {
    "name": "ipython",
    "version": 3
   },
   "file_extension": ".py",
   "mimetype": "text/x-python",
   "name": "python",
   "nbconvert_exporter": "python",
   "pygments_lexer": "ipython3",
   "version": "3.8.3"
  }
 },
 "nbformat": 4,
 "nbformat_minor": 4
}
