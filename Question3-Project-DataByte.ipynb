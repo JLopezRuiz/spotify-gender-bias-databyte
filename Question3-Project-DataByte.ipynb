{
 "cells": [
  {
   "cell_type": "markdown",
   "metadata": {},
   "source": [
    "# CS 234 Final Project – Women in Music\n",
    "## Question 3: Gender of Artists in Spotify\n",
    "__Author: Data Byte (Clara Kim, Jackeline Lopez Ruiz, and Francisca Moya Jimenez).__\n",
    "\n",
    "Date: 11-28-2020\n",
    "\n",
    "Our project explores representation of women in music, specifically representation of female artists in Spotify. Spotify does not provide the gender of the artists in their catalogue, so in order to be able to investigate female artists representation on Spotify, we explored alternative ways of collecting data on the gender of popular artists. \n",
    "\n",
    "Our first approach was retrieving the artists' gender from Wikidata. Wikidata is a free and open knowledge base that acts as a central storage for other Wikimedia projects, including Wikipedia. Our second approach was to use crowdsource knowledge from user-created Spotify playlists to label artists as 'female' or 'male'. Since we were mainly interested in contrasting the proportion of female artists versus the proportion of male artists, we decided to focus on these two genders.  \n"
   ]
  },
  {
   "cell_type": "markdown",
   "metadata": {},
   "source": [
    "### 1. Asking an Interesting Question\n",
    "Our goal is to develop and assess two methods to retrieve Spotify artists' gender. Data scientists often need to recurr to creative methods to collect \"missing data\", as it is the case with the gender of these artists. There is not a free API available that can be used to retrieve this information. We aim to help visualize the process of collecting this missing data, as indicated by one of the principles of *_Data Feminism_*, a book written by Catherine D'Ignazio and Lauren F. Klein. D'Ignazio and Klein propose that data scientists should help visualize their work so this invisible labor can be recognized and valued."
   ]
  },
  {
   "cell_type": "markdown",
   "metadata": {},
   "source": [
    "### 2. Retrieving gender through Wikidata."
   ]
  },
  {
   "cell_type": "markdown",
   "metadata": {},
   "source": [
    "We will use the Spotipy library to retrieve two playlists, \"Top Female Artists of 2020\" and \"Top Male Artists of 2020\". We will use these playlists to test our function that retrieves the gender of a list of artists."
   ]
  },
  {
   "cell_type": "markdown",
   "metadata": {},
   "source": [
    "We start by setting up an object to communicate with the Spotify API."
   ]
  },
  {
   "cell_type": "code",
   "execution_count": 2,
   "metadata": {},
   "outputs": [],
   "source": [
    "import spotipy \n",
    "\n",
    "CLIENT_ID = \"34d5e765ac1a4d2dab3ca477a1c69b89\"\n",
    "CLIENT_SECRET = \"1e8a41ec803c4a52a060a49e733476dd\"\n",
    "\n",
    "from spotipy.oauth2 import SpotifyClientCredentials\n",
    "\n",
    "sp = spotipy.Spotify(auth_manager=SpotifyClientCredentials(client_id= CLIENT_ID,\n",
    "                                                           client_secret= CLIENT_SECRET))"
   ]
  },
  {
   "cell_type": "markdown",
   "metadata": {},
   "source": [
    "We retrieved the playlist IDs from the Spotify web application. We use these IDs to retrieve the playlists."
   ]
  },
  {
   "cell_type": "code",
   "execution_count": 3,
   "metadata": {},
   "outputs": [],
   "source": [
    "# IDs\n",
    "maleID = '37i9dQZF1DX9Xg1GNpN7Fl'\n",
    "femaleID = '37i9dQZF1DWV50ly9XYOua'\n",
    "\n",
    "# Playlists\n",
    "malePlaylist = sp.playlist_items(maleID)\n",
    "femalePlaylist = sp.playlist_items(femaleID)"
   ]
  },
  {
   "cell_type": "markdown",
   "metadata": {},
   "source": [
    "According to how the Wikidata API works, we need the artists' names to be able to retrieve their gender. Thus, we will create a set of functions to extract the relevant information from the playlist objects we retrieved from the Spotify API."
   ]
  },
  {
   "cell_type": "markdown",
   "metadata": {},
   "source": [
    "We start by creating a function to retrieve all of the artists' IDs for a given playlist."
   ]
  },
  {
   "cell_type": "code",
   "execution_count": 4,
   "metadata": {},
   "outputs": [],
   "source": [
    "def allArtistsID(playlist):\n",
    "    \"\"\"Returns a list with all of the unique artists' IDs for a given playlist\"\"\"\n",
    "    allArtists = []\n",
    "    for item in playlist['items']:\n",
    "        artists = [a['id'] for a in item['track']['artists']]\n",
    "        allArtists.extend(artists)\n",
    "    \n",
    "    allArtists = list(set(allArtists))\n",
    "    return allArtists\n",
    "\n",
    "femaleID = allArtistsID(femalePlaylist)\n",
    "maleID = allArtistsID(malePlaylist)"
   ]
  },
  {
   "cell_type": "markdown",
   "metadata": {},
   "source": [
    "We create two functions to help retrieve the artists' name."
   ]
  },
  {
   "cell_type": "code",
   "execution_count": 5,
   "metadata": {},
   "outputs": [],
   "source": [
    "import math\n",
    "\n",
    "def artistsInfo(idList):\n",
    "    \"\"\"Returns a list of dictionaries with the information for each artist from a\n",
    "    list returned by allArtistsID\"\"\"\n",
    "    artistsInfo = []\n",
    "\n",
    "    for i in range(math.ceil(len(idList)/50)):\n",
    "        partialList = idList[i*50: (i+1)*50]\n",
    "        results = sp.artists(partialList)\n",
    "        artistsInfo.extend(results['artists'])\n",
    "        \n",
    "    return artistsInfo"
   ]
  },
  {
   "cell_type": "code",
   "execution_count": 6,
   "metadata": {},
   "outputs": [],
   "source": [
    "def getArtistInfo(artistList):\n",
    "    \"\"\"Given a list of artists returned by the artistsInfo function, extracts name for each artist.\"\"\"\n",
    "    artists = []\n",
    "    for item in artistList:\n",
    "        name = item['name']\n",
    "        artists.append((name))\n",
    "        \n",
    "    return artists"
   ]
  },
  {
   "cell_type": "markdown",
   "metadata": {},
   "source": [
    "We will use the function to create two lists, one with all of the artists on the \"Top Female Artists of 2019\", and another one with all of the artists on the \"Top Male Artists of 2019\""
   ]
  },
  {
   "cell_type": "code",
   "execution_count": 7,
   "metadata": {},
   "outputs": [],
   "source": [
    "# Female Artists\n",
    "fArtists = getArtistInfo(artistsInfo(femaleID))\n",
    "\n",
    "# Male Artists\n",
    "mArtists = getArtistInfo(artistsInfo(maleID))"
   ]
  },
  {
   "cell_type": "markdown",
   "metadata": {},
   "source": [
    "We will use the pywikibot library to interact with the Wikidata API. Based on the instructions found here: https://www.wikidata.org/wiki/Wikidata:Pywikibot_-_Python_3_Tutorial/Data_Harvest, we wrote the following function to retrieve a person's gender given a name.\n"
   ]
  },
  {
   "cell_type": "code",
   "execution_count": 9,
   "metadata": {},
   "outputs": [],
   "source": [
    "import pywikibot as pw\n",
    "\n",
    "def getGender(artistName):\n",
    "    \"\"\"Retrieves a string indicating a given artist's gender if that information is available \n",
    "    on Wikidata. Returns None if the artist's gender is not available\"\"\"\n",
    "    siteWiki = pw.Site(\"en\", \"wikipedia\")\n",
    "    try:\n",
    "        # Retrieving Wikidata artist's ID\n",
    "        pageWiki = pw.Page(siteWiki, artistName)\n",
    "        itemWiki = pw.ItemPage.fromPage(pageWiki)\n",
    "        artistID = itemWiki.getID()\n",
    "\n",
    "        # Retrieving artist's gender\n",
    "        site = pw.Site(\"wikidata\", \"wikidata\")\n",
    "        repo = site.data_repository()\n",
    "        item = pw.ItemPage(repo, artistID)\n",
    "        item_dict = item.get()\n",
    "        gender = item_dict['claims']['P21']\n",
    "        return gender[0].getTarget().labels[\"en\"]\n",
    "    except:\n",
    "        gender = None\n",
    "        \n",
    "    return gender"
   ]
  },
  {
   "cell_type": "markdown",
   "metadata": {},
   "source": [
    "We can look at the gender of the artists in the \"Top Male Artists of 2019\" playlist."
   ]
  },
  {
   "cell_type": "code",
   "execution_count": 10,
   "metadata": {},
   "outputs": [
    {
     "name": "stdout",
     "output_type": "stream",
     "text": [
      "Ed Sheeran : male\n",
      "Shawn Mendes : male\n",
      "J Balvin : male\n",
      "Sebastian Yatra : None\n",
      "Khalid : None\n",
      "J. Cole : male\n",
      "BTS : None\n",
      "Nicky Jam : male\n",
      "Justin Bieber : male\n",
      "Juice WRLD : None\n",
      "Kygo : male\n",
      "Queen : None\n",
      "Drake : None\n",
      "Travis Scott : male\n",
      "Maroon 5 : None\n",
      "Avicii : male\n",
      "Twenty One Pilots : None\n",
      "Anuel AA : male\n",
      "Calvin Harris : male\n",
      "Lil Nas X : male\n",
      "Lauv : male\n",
      "Kendrick Lamar : male\n",
      "Alan Walker : None\n",
      "Future : None\n",
      "Kanye West : male\n",
      "Sabrina Carpenter : female\n",
      "Maluma : male\n",
      "Daddy Yankee : male\n",
      "The Weeknd : male\n",
      "David Guetta : male\n",
      "Panic! At The Disco : None\n",
      "Marshmello : male\n",
      "Post Malone : male\n",
      "XXXTENTACION : None\n",
      "The Beatles : None\n",
      "Farruko : male\n",
      "The Chainsmokers : None\n",
      "Brooks : None\n",
      "Ozuna : None\n",
      "Eminem : male\n",
      "Diplo : male\n",
      "Sech : None\n",
      "Chris Brown : male\n",
      "Rag'n'Bone Man : male\n",
      "Bastille : None\n",
      "Tyga : male\n",
      "Coldplay : None\n",
      "Snow : None\n",
      "Imagine Dragons : None\n",
      "Bad Bunny : male\n",
      "Morgan Wallen : male\n",
      "Swae Lee : male\n",
      "A Boogie Wit da Hoodie : None\n",
      "Whitney Houston : female\n",
      "5 Seconds of Summer : None\n",
      "Paulo Londra : male\n",
      "Loote : None\n",
      "Bruno Mars : male\n"
     ]
    }
   ],
   "source": [
    "malePGender = {}\n",
    "for artist in mArtists:\n",
    "    malePGender[artist] = getGender(artist)\n",
    "    print(artist,':',malePGender[artist])"
   ]
  },
  {
   "cell_type": "code",
   "execution_count": 226,
   "metadata": {},
   "outputs": [
    {
     "data": {
      "text/plain": [
       "dict_values(['male', 'male', 'male', None, None, 'male', None, 'male', 'male', None, 'male', None, None, 'male', None, 'male', None, 'male', 'male', 'male', 'male', 'male', None, None, 'male', 'female', 'male', 'male', 'male', 'male', None, 'male', 'male', None, None, 'male', None, None, None, 'male', 'male', None, 'male', 'male', None, 'male', None, None, None, 'male', 'male', 'male', None, 'female', None, 'male', None, 'male'])"
      ]
     },
     "execution_count": 226,
     "metadata": {},
     "output_type": "execute_result"
    }
   ],
   "source": [
    "malePGender.values()"
   ]
  },
  {
   "cell_type": "markdown",
   "metadata": {},
   "source": [
    "From this data, we can notice that there are female artists and groups of artists such as Whitney Houston in the \"Top Male Artists of 2019\" playlist. This is because some of the songs in the playlists were features of male artists with other artists. We can also notice that the API did not find the gender for a large number of artists. By reading the pywikidata documentation, we noticed that Wikidata takes a Wikipedia page as a reference. If the name provided to the API does not match exactly the Wikipedia page for an artist, it will not be able to find the Wikidata page for that artist. "
   ]
  },
  {
   "cell_type": "markdown",
   "metadata": {},
   "source": [
    "We decided to use mwclient, a library to the MediaWiki API, to search for the Wikipedia pages for a given artist and then use the Wikipedia page name found to get the gender of a given artist."
   ]
  },
  {
   "cell_type": "code",
   "execution_count": 25,
   "metadata": {},
   "outputs": [],
   "source": [
    "import mwclient as mw\n",
    "\n",
    "def getPageFromWiki(name):\n",
    "    \"\"\"Returns the first page for an artist given a name\"\"\"\n",
    "    wiki = mw.Site('en.wikipedia.org')\n",
    "    allPages = wiki.allpages(name+(' (singer)'))\n",
    "    return allPages.next().resolve_redirect().name"
   ]
  },
  {
   "cell_type": "code",
   "execution_count": 34,
   "metadata": {},
   "outputs": [],
   "source": [
    "def getGenderV2(name):\n",
    "    \"\"\"Retrieves a string indicating a given artist's gender if that information is available \n",
    "    on Wikidata. If the page for a given artist does not exist, it searches Wikipedia to find\n",
    "    the appropiate Wikidata page. Returns None if the artist's gender is not available\"\"\"\n",
    "    gender = getGender(name)\n",
    "    if gender == None:\n",
    "        newName = getPageFromWiki(name)\n",
    "        gender = getGender(newName)\n",
    "    return gender\n",
    "        "
   ]
  },
  {
   "cell_type": "markdown",
   "metadata": {},
   "source": [
    "We can look at the gender of the artists in the \"Top Male Artists of 2019\" playlist retrieved using our new function `getGenderV2`"
   ]
  },
  {
   "cell_type": "code",
   "execution_count": 36,
   "metadata": {},
   "outputs": [
    {
     "name": "stdout",
     "output_type": "stream",
     "text": [
      "Ed Sheeran : male\n",
      "Shawn Mendes : male\n",
      "J Balvin : male\n",
      "Sebastian Yatra : None\n",
      "Khalid : male\n",
      "J. Cole : male\n",
      "BTS : None\n",
      "Nicky Jam : male\n",
      "Justin Bieber : male\n",
      "Juice WRLD : None\n",
      "Kygo : male\n",
      "Queen : None\n",
      "Drake : male\n",
      "Travis Scott : male\n",
      "Maroon 5 : None\n",
      "Avicii : male\n",
      "Twenty One Pilots : None\n",
      "Anuel AA : male\n",
      "Calvin Harris : male\n",
      "Lil Nas X : male\n",
      "Lauv : male\n",
      "Kendrick Lamar : male\n",
      "Alan Walker : male\n",
      "Future : male\n",
      "Kanye West : male\n",
      "Sabrina Carpenter : female\n",
      "Maluma : male\n",
      "Daddy Yankee : male\n",
      "The Weeknd : male\n",
      "David Guetta : male\n",
      "Panic! At The Disco : None\n",
      "Marshmello : male\n",
      "Post Malone : male\n",
      "XXXTENTACION : None\n",
      "The Beatles : None\n",
      "Farruko : male\n",
      "The Chainsmokers : None\n",
      "Brooks : None\n",
      "Ozuna : male\n",
      "Eminem : male\n",
      "Diplo : male\n",
      "Sech : male\n",
      "Chris Brown : male\n",
      "Rag'n'Bone Man : male\n",
      "Bastille : None\n",
      "Tyga : male\n",
      "Coldplay : None\n",
      "Snow : male\n",
      "Imagine Dragons : None\n",
      "Bad Bunny : male\n",
      "Morgan Wallen : male\n",
      "Swae Lee : male\n",
      "A Boogie Wit da Hoodie : None\n",
      "Whitney Houston : female\n",
      "5 Seconds of Summer : None\n",
      "Paulo Londra : male\n",
      "Loote : None\n",
      "Bruno Mars : male\n"
     ]
    }
   ],
   "source": [
    "malePGenderV2 = {}\n",
    "for artist in mArtists:\n",
    "    malePGenderV2[artist] = getGenderV2(artist)\n",
    "    print(artist,':',malePGenderV2[artist])"
   ]
  },
  {
   "cell_type": "markdown",
   "metadata": {},
   "source": [
    "We can see that we were able to retrieve the gender of artists that we did not have before, such as Ozuna and Drake, who are male. However, we see that there is still some missing data. We can visualize the percentage of artists for whom we found gender for each method."
   ]
  },
  {
   "cell_type": "markdown",
   "metadata": {},
   "source": [
    "We will start by creating a conter dictionary to count the frequency of female artists, male artists, and artists whose gender could not be categorized (None) for each each method: Wikidata API and Wikidata + Wikipedia APIs. From looking at the artists, we know that two of artists in the Top Male Artists 2019 playlist are female, specifically Sabrina Carpenter and Whitney Houston. These artists were correctly identified as female by the two methods."
   ]
  },
  {
   "cell_type": "code",
   "execution_count": 257,
   "metadata": {},
   "outputs": [],
   "source": [
    "from collections import Counter\n",
    "firstFreq = Counter(malePGender.values())\n",
    "secondFreq = Counter(malePGenderV2.values())"
   ]
  },
  {
   "cell_type": "code",
   "execution_count": 258,
   "metadata": {},
   "outputs": [],
   "source": [
    "dataDict = {}\n",
    "dataDict['Wikidata'] = firstFreq\n",
    "dataDict['Wikidata + Wikipedia'] = secondFreq"
   ]
  },
  {
   "cell_type": "code",
   "execution_count": 259,
   "metadata": {},
   "outputs": [],
   "source": [
    "import pandas as pd\n",
    "\n",
    "df = pd.DataFrame(data=dataDict)\n",
    "df.rename(index={None:'none'}, inplace=True)"
   ]
  },
  {
   "cell_type": "code",
   "execution_count": 260,
   "metadata": {},
   "outputs": [],
   "source": [
    "df2 = df.transpose()"
   ]
  },
  {
   "cell_type": "code",
   "execution_count": 261,
   "metadata": {},
   "outputs": [
    {
     "data": {
      "text/html": [
       "<div>\n",
       "<style scoped>\n",
       "    .dataframe tbody tr th:only-of-type {\n",
       "        vertical-align: middle;\n",
       "    }\n",
       "\n",
       "    .dataframe tbody tr th {\n",
       "        vertical-align: top;\n",
       "    }\n",
       "\n",
       "    .dataframe thead th {\n",
       "        text-align: right;\n",
       "    }\n",
       "</style>\n",
       "<table border=\"1\" class=\"dataframe\">\n",
       "  <thead>\n",
       "    <tr style=\"text-align: right;\">\n",
       "      <th></th>\n",
       "      <th>male</th>\n",
       "      <th>none</th>\n",
       "      <th>female</th>\n",
       "    </tr>\n",
       "  </thead>\n",
       "  <tbody>\n",
       "    <tr>\n",
       "      <th>Wikidata</th>\n",
       "      <td>32</td>\n",
       "      <td>24</td>\n",
       "      <td>2</td>\n",
       "    </tr>\n",
       "    <tr>\n",
       "      <th>Wikidata + Wikipedia</th>\n",
       "      <td>39</td>\n",
       "      <td>17</td>\n",
       "      <td>2</td>\n",
       "    </tr>\n",
       "  </tbody>\n",
       "</table>\n",
       "</div>"
      ],
      "text/plain": [
       "                      male  none  female\n",
       "Wikidata                32    24       2\n",
       "Wikidata + Wikipedia    39    17       2"
      ]
     },
     "execution_count": 261,
     "metadata": {},
     "output_type": "execute_result"
    }
   ],
   "source": [
    "df2"
   ]
  },
  {
   "cell_type": "code",
   "execution_count": 266,
   "metadata": {},
   "outputs": [
    {
     "data": {
      "image/png": "[encoded data removed]",
      "text/plain": [
       "<Figure size 432x288 with 1 Axes>"
      ]
     },
     "metadata": {
      "needs_background": "light"
     },
     "output_type": "display_data"
    }
   ],
   "source": [
    "from matplotlib import pyplot as plt\n",
    "df2.plot(kind='bar', stacked=True)\n",
    "plt.title('Artists in Top Male Artists 2019 Playlist Labeled By Gender')\n",
    "plt.xlabel('Method used')\n",
    "plt.ylabel('# of Artists')\n",
    "plt.show()"
   ]
  },
  {
   "cell_type": "markdown",
   "metadata": {},
   "source": [
    "### 2. Retrieving gender by crowdsourcing Spotify"
   ]
  },
  {
   "cell_type": "markdown",
   "metadata": {},
   "source": [
    "As we saw earlier, we can not rely on Wikidata to retrieve the gender of any artist. This was our motivation for searching for another way to be able to collect this missing data. We decided to use the crowdsource knowledge of Spotify's users to be able to classify artists as male or female. We will create an archive of Spotify playlists that have names that include \"female artist\" or \"male artist\", and we will classify artists as female or male if enough people have labelled them as female or male. We will do this by counting the times they appear in playlists labeled as \"female artist\" versus the number of times they appear in playlists labeled as \"male artist\".  "
   ]
  },
  {
   "cell_type": "markdown",
   "metadata": {},
   "source": [
    "First, we need to create a function that retrieves the IDs of 200 playlists associated with a given string from the Spotify API."
   ]
  },
  {
   "cell_type": "code",
   "execution_count": 142,
   "metadata": {},
   "outputs": [],
   "source": [
    "def getPlaylists(wordsList, num):\n",
    "    \"\"\"Returns all of the playlists IDs from Spotify related for a given query to the Spotify API\"\"\"\n",
    "    playlistIDs = []\n",
    "    for word in wordsList:\n",
    "        results = sp.search(q=word, type='playlist', limit=50)\n",
    "        playlistIDs.extend([resID['id'] for resID in results['playlists']['items']])\n",
    "        offset = len(results['playlists']['items'])\n",
    "        while len(playlistIDs)<num:\n",
    "            results = sp.search(q=word, type='playlist', limit=50, offset=offset)\n",
    "            playlistIDs.extend([resID['id'] for resID in results['playlists']['items']])\n",
    "            offset = offset + len(results['playlists']['items'])\n",
    "    return playlistIDs"
   ]
  },
  {
   "cell_type": "markdown",
   "metadata": {},
   "source": [
    "We will collect the IDs of 200 playlists associated with the name \"female artist\" and 200 playlists associated with the name \"male artist\"."
   ]
  },
  {
   "cell_type": "code",
   "execution_count": 197,
   "metadata": {},
   "outputs": [
    {
     "name": "stdout",
     "output_type": "stream",
     "text": [
      "female playlists retrieved: 400 , male playlists retrieved: 400\n"
     ]
    }
   ],
   "source": [
    "femalePlaylists = getPByName(['female artist','female singer'],200)\n",
    "malePlaylists = getPByName(['male artist','male singer'],200)\n",
    "\n",
    "print('female playlists retrieved:',len(femalePlaylists),', male playlists retrieved:',len(malePlaylists))"
   ]
  },
  {
   "cell_type": "markdown",
   "metadata": {},
   "source": [
    "We will now create a function to return a dictionary that has the playlists' IDs as keys and the a list of artists for each playlist as values. We will use this function to then check in how many playlists a given artist is."
   ]
  },
  {
   "cell_type": "code",
   "execution_count": 39,
   "metadata": {},
   "outputs": [],
   "source": [
    "def allArtistsID(playlist):\n",
    "    \"\"\"Returns a list with all of the unique artists' IDs for a given playlist\"\"\"\n",
    "    playlist = sp.playlist_items(playlist)\n",
    "    allArtists = []\n",
    "    for item in playlist['items']:\n",
    "        try:\n",
    "            artists = [a['id'] for a in item['track']['artists']]\n",
    "            allArtists.extend(artists)\n",
    "        except:\n",
    "            pass\n",
    "    \n",
    "    allArtists = list(set(allArtists))\n",
    "    return allArtists"
   ]
  },
  {
   "cell_type": "code",
   "execution_count": 144,
   "metadata": {},
   "outputs": [],
   "source": [
    "def playArtistDict(idList):\n",
    "    \"\"\"Returns a dictionary of artists IDs for a given list of playlists\"\"\"\n",
    "    return {playlist: allArtistsID(playlist) for playlist in idList}"
   ]
  },
  {
   "cell_type": "markdown",
   "metadata": {},
   "source": [
    "Creating the dictionary containing all female playlists and artists, and a dictionary containing all male playlists and artists."
   ]
  },
  {
   "cell_type": "code",
   "execution_count": 201,
   "metadata": {},
   "outputs": [
    {
     "data": {
      "text/plain": [
       "392"
      ]
     },
     "execution_count": 201,
     "metadata": {},
     "output_type": "execute_result"
    }
   ],
   "source": [
    "femalePlay = playArtistDict(femalePlaylists)\n",
    "malePlay = playArtistDict(malePlaylists)"
   ]
  },
  {
   "cell_type": "code",
   "execution_count": 203,
   "metadata": {},
   "outputs": [
    {
     "name": "stdout",
     "output_type": "stream",
     "text": [
      "female playlists: 392\n",
      "male playlists: 397\n"
     ]
    }
   ],
   "source": [
    "print('female playlists:',len(femalePlay))\n",
    "print('male playlists:',len(malePlay))"
   ]
  },
  {
   "cell_type": "markdown",
   "metadata": {},
   "source": [
    "We can see that some playlists found were repeated. In order to keep proportions equal, we'll eliminate the 5 last playlists from the male playlist dictionary (which we know are the less relevant)."
   ]
  },
  {
   "cell_type": "code",
   "execution_count": 204,
   "metadata": {},
   "outputs": [],
   "source": [
    "for i in range(5):\n",
    "    malePlay.popitem()"
   ]
  },
  {
   "cell_type": "code",
   "execution_count": 206,
   "metadata": {},
   "outputs": [
    {
     "name": "stdout",
     "output_type": "stream",
     "text": [
      "male playlists: 392\n"
     ]
    }
   ],
   "source": [
    "print('male playlists:',len(malePlay))"
   ]
  },
  {
   "cell_type": "markdown",
   "metadata": {},
   "source": [
    "We can now define the function that will classify artists' gender as male or female."
   ]
  },
  {
   "cell_type": "code",
   "execution_count": 216,
   "metadata": {},
   "outputs": [],
   "source": [
    "def genderClassif(artist):\n",
    "    \"\"\"Given an artist name returns male, female, or None according to how many times the\n",
    "    artist appears on female playlists versus male artists\"\"\"\n",
    "    counterMale = 0\n",
    "    counterFemale = 0\n",
    "    for playlist in malePlay.keys():\n",
    "        if artist in malePlay[playlist]:\n",
    "            counterMale += 1\n",
    "    for playlist in femalePlay.keys():\n",
    "        if artist in femalePlay[playlist]:\n",
    "            counterFemale += 1\n",
    "    if counterMale+3 > counterFemale:\n",
    "        return 'male'\n",
    "    elif counterFemale+3 > counterMale:\n",
    "        return 'female'\n",
    "    else:\n",
    "        return None"
   ]
  },
  {
   "cell_type": "markdown",
   "metadata": {},
   "source": [
    "We will extract the name and id for each artist in the \"Top Female Artists of 2019\" and \"Top Male Artists of 2019\" playlists to obtain their gender through our gender classifier function. "
   ]
  },
  {
   "cell_type": "code",
   "execution_count": 209,
   "metadata": {},
   "outputs": [],
   "source": [
    "def getArtistInfoID(artistList):\n",
    "    \"\"\"Given a list of artists returned by the artistsInfo function, extracts name and ID for each artist.\"\"\"\n",
    "    return [(item['name'], item['id']) for item in artistList]"
   ]
  },
  {
   "cell_type": "code",
   "execution_count": 210,
   "metadata": {},
   "outputs": [],
   "source": [
    "topFemaleArtists = getArtistInfoID(artistsInfo(femaleID))\n",
    "topMaleArtists = getArtistInfoID(artistsInfo(maleID))"
   ]
  },
  {
   "cell_type": "markdown",
   "metadata": {},
   "source": [
    "Obtaining gender:"
   ]
  },
  {
   "cell_type": "code",
   "execution_count": 222,
   "metadata": {},
   "outputs": [
    {
     "name": "stdout",
     "output_type": "stream",
     "text": [
      "TWICE gender: female\n",
      "Madonna gender: female\n",
      "Miley Cyrus gender: female\n",
      "Selena Gomez gender: female\n",
      "Lana Del Rey gender: female\n",
      "J Balvin gender: female\n",
      "Kehlani gender: female\n",
      "SZA gender: female\n",
      "Dua Lipa gender: female\n",
      "KAROL G gender: female\n",
      "Lady Gaga gender: female\n",
      "Mabel gender: female\n",
      "Bebe Rexha gender: female\n",
      "Natti Natasha gender: female\n",
      "P!nk gender: female\n",
      "Little Mix gender: female\n",
      "Billie Eilish gender: female\n",
      "Nicki Minaj gender: female\n",
      "Ava Max gender: female\n",
      "Hailee Steinfeld gender: female\n",
      "Taylor Swift gender: female\n",
      "Katy Perry gender: female\n",
      "BLACKPINK gender: female\n",
      "Rita Ora gender: female\n",
      "Fleetwood Mac gender: female\n",
      "Jess Glynne gender: female\n",
      "Alessia Cara gender: female\n",
      "Anne-Marie gender: female\n",
      "Adele gender: female\n",
      "Beyoncé gender: female\n",
      "Marília Mendonça gender: female\n",
      "Zara Larsson gender: female\n",
      "Black Eyed Peas gender: male\n",
      "Britney Spears gender: female\n",
      "Julia Michaels gender: female\n",
      "Normani gender: male\n",
      "Shakira gender: female\n",
      "Halsey gender: female\n",
      "Demi Lovato gender: female\n",
      "Ellie Goulding gender: female\n",
      "Cardi B gender: female\n",
      "Camila Cabello gender: female\n",
      "Freshlyground gender: female\n",
      "Clean Bandit gender: female\n",
      "Lizzo gender: female\n",
      "Becky G gender: female\n",
      "ROSALÍA gender: female\n",
      "Bad Bunny gender: female\n",
      "Sia gender: female\n",
      "Ariana Grande gender: female\n",
      "Whitney Houston gender: female\n",
      "Anitta gender: female\n",
      "Rihanna gender: female\n"
     ]
    }
   ],
   "source": [
    "for artist in topFemaleArtists:\n",
    "    print(artist[0],'gender:',genderClassif(artist[1]))"
   ]
  },
  {
   "cell_type": "code",
   "execution_count": 223,
   "metadata": {},
   "outputs": [
    {
     "name": "stdout",
     "output_type": "stream",
     "text": [
      "Ed Sheeran gender: male\n",
      "Shawn Mendes gender: male\n",
      "J Balvin gender: female\n",
      "Sebastian Yatra gender: male\n",
      "Khalid gender: male\n",
      "J. Cole gender: male\n",
      "BTS gender: male\n",
      "Nicky Jam gender: male\n",
      "Justin Bieber gender: male\n",
      "Juice WRLD gender: male\n",
      "Kygo gender: male\n",
      "Queen gender: male\n",
      "Drake gender: male\n",
      "Travis Scott gender: male\n",
      "Maroon 5 gender: male\n",
      "Avicii gender: male\n",
      "Twenty One Pilots gender: male\n",
      "Anuel AA gender: male\n",
      "Calvin Harris gender: male\n",
      "Lil Nas X gender: male\n",
      "Lauv gender: male\n",
      "Kendrick Lamar gender: male\n",
      "Alan Walker gender: male\n",
      "Future gender: male\n",
      "Kanye West gender: male\n",
      "Sabrina Carpenter gender: female\n",
      "Maluma gender: female\n",
      "Daddy Yankee gender: male\n",
      "The Weeknd gender: male\n",
      "David Guetta gender: male\n",
      "Panic! At The Disco gender: male\n",
      "Marshmello gender: male\n",
      "Post Malone gender: male\n",
      "XXXTENTACION gender: male\n",
      "The Beatles gender: male\n",
      "Farruko gender: male\n",
      "The Chainsmokers gender: male\n",
      "Brooks gender: male\n",
      "Ozuna gender: male\n",
      "Eminem gender: male\n",
      "Diplo gender: female\n",
      "Sech gender: male\n",
      "Chris Brown gender: male\n",
      "Rag'n'Bone Man gender: male\n",
      "Bastille gender: male\n",
      "Tyga gender: male\n",
      "Coldplay gender: male\n",
      "Snow gender: male\n",
      "Imagine Dragons gender: male\n",
      "Bad Bunny gender: female\n",
      "Morgan Wallen gender: male\n",
      "Swae Lee gender: male\n",
      "A Boogie Wit da Hoodie gender: male\n",
      "Whitney Houston gender: female\n",
      "5 Seconds of Summer gender: male\n",
      "Paulo Londra gender: male\n",
      "Loote gender: male\n",
      "Bruno Mars gender: male\n"
     ]
    }
   ],
   "source": [
    "for artist in topMaleArtists:\n",
    "    print(artist[0],'gender:',genderClassif(artist[1]))"
   ]
  },
  {
   "cell_type": "markdown",
   "metadata": {},
   "source": [
    "We can see that the Spotify gender classifier provides relevant information, but is not completely accurate with artists that are among the most popular artists in Spotify, such as Bad Bunny. Thus, we will take a two-step approach to labeling the gender of the artists. We will start by retrieving the data from Wikidata using the improved function that first makes a call to the Wikipedia API to retrieve the correct Wikipedia page for each artist. Then, we will use the Spotify crowdsourcing method to get our missing data, which we will check for accuracy. "
   ]
  },
  {
   "cell_type": "markdown",
   "metadata": {},
   "source": [
    "### 4. Data Classification Process\n",
    "As part of our research question, we decided to look at the proportion of female versus male artists in one of the top Spotify playlists, Today's Top Hits. We downloaded the playlist's data from May 2019 to November 2020. We accessed the data from a Github user's repository: https://github.com/mackorone/spotify-playlist-archive/tree/master/playlists"
   ]
  },
  {
   "cell_type": "code",
   "execution_count": 174,
   "metadata": {},
   "outputs": [],
   "source": [
    "import csv\n",
    "\n",
    "allFiles = ['may2019', 'june2019-1', 'june2019-2', 'july2019-1', 'july2019-2', \n",
    "                'august2019-1', 'august2019-2', 'september2019-1', 'september2019-2',\n",
    "                'october2019-1', 'october2019-2', 'november2019-1', 'november2019-2',\n",
    "                'december2019-1', 'december2019-2', 'january2020-1', 'january2020-2',\n",
    "                'february2020-1', 'february2020-2', 'march2020-1', 'march2020-2',\n",
    "                'april2020-1', 'april2020-2', 'may2020-1', 'may2020-2', 'june2020-1',\n",
    "                'june2020-2', 'july2020-1', 'july2020-2', 'august2020-1', 'august2020-2',\n",
    "                'september2020-1', 'september2020-2', 'october2020-1', 'october2020-2',\n",
    "                'november2020-1', 'november2020-2']\n",
    "\n",
    "allArtists = []\n",
    "\n",
    "\n",
    "for name in allFiles:\n",
    "    with open('/Users/francisca/Desktop/CS 234/databyte_csvfiles/'+ name + '.csv', mode='r') as infile:\n",
    "        csv_reader = csv.reader(infile, delimiter=',')\n",
    "        for lines in csv_reader:\n",
    "            if lines[2] != 'artists':\n",
    "                if ',' in lines[2]:\n",
    "                    artists = []\n",
    "                    a = lines[2].split(', ')\n",
    "                    allArtists.extend(a)\n",
    "                else:\n",
    "                    allArtists.append(lines[2])"
   ]
  },
  {
   "cell_type": "markdown",
   "metadata": {},
   "source": [
    "We want to create a dictionary storing all of the artists in this playlist over time and their gender as determined by our gender classifier. We first create a list with unique artists."
   ]
  },
  {
   "cell_type": "code",
   "execution_count": 178,
   "metadata": {},
   "outputs": [
    {
     "name": "stdout",
     "output_type": "stream",
     "text": [
      "There is a total of 319 unique artists.\n"
     ]
    }
   ],
   "source": [
    "uniqueArtists = list(set(allArtists))\n",
    "print('There is a total of', len(uniqueArtists), 'unique artists.')"
   ]
  },
  {
   "cell_type": "markdown",
   "metadata": {},
   "source": [
    "In order to classify the artists, we need their Spotify ids. Therefore, we retrieve their ids from the Spotify API."
   ]
  },
  {
   "cell_type": "code",
   "execution_count": 284,
   "metadata": {},
   "outputs": [],
   "source": [
    "aDict = {}\n",
    "for artist in uArtists:\n",
    "    results = sp.search(q=artist, type='artist')\n",
    "    aId = results['artists']['items'][0]['id']\n",
    "    aDict[artist] = aId"
   ]
  },
  {
   "cell_type": "markdown",
   "metadata": {},
   "source": [
    "We can check that we have the 319 artists in our dictionary."
   ]
  },
  {
   "cell_type": "code",
   "execution_count": 294,
   "metadata": {},
   "outputs": [
    {
     "data": {
      "text/plain": [
       "319"
      ]
     },
     "execution_count": 294,
     "metadata": {},
     "output_type": "execute_result"
    }
   ],
   "source": [
    "len(aDict.keys())"
   ]
  },
  {
   "cell_type": "markdown",
   "metadata": {},
   "source": [
    "Now we will define a function that stores the name and the gender of each artist in our list."
   ]
  },
  {
   "cell_type": "code",
   "execution_count": 295,
   "metadata": {},
   "outputs": [],
   "source": [
    "def genderDict(artistDict):\n",
    "    \"\"\"Given a dictionary of names as keys and artist ids as values returns a dictionary of names\n",
    "    and gender for each artist\"\"\"\n",
    "    genderDict = {}\n",
    "    for artist in artistDict:\n",
    "        gender = getGenderV2(artist)\n",
    "        if gender == None:\n",
    "            gender = genderClassif2(artistDict[artist])\n",
    "        genderDict[artist] = gender\n",
    "    return genderDict"
   ]
  },
  {
   "cell_type": "code",
   "execution_count": 342,
   "metadata": {},
   "outputs": [
    {
     "name": "stderr",
     "output_type": "stream",
     "text": [
      "WARNING: wikibase-lexeme datatype is not supported yet.\n",
      "WARNING: wikibase-lexeme datatype is not supported yet.\n",
      "WARNING: wikibase-form datatype is not supported yet.\n",
      "WARNING: wikibase-form datatype is not supported yet.\n",
      "WARNING: wikibase-lexeme datatype is not supported yet.\n",
      "WARNING: wikibase-lexeme datatype is not supported yet.\n",
      "WARNING: wikibase-lexeme datatype is not supported yet.\n",
      "WARNING: wikibase-lexeme datatype is not supported yet.\n",
      "WARNING: wikibase-lexeme datatype is not supported yet.\n",
      "WARNING: wikibase-lexeme datatype is not supported yet.\n"
     ]
    }
   ],
   "source": [
    "aGenderDict = genderDict(aDict)"
   ]
  },
  {
   "cell_type": "markdown",
   "metadata": {},
   "source": [
    "We will store this data in a json file to use in our hypothesis testing to analyze proportion of female to male artists in Spotify."
   ]
  },
  {
   "cell_type": "code",
   "execution_count": 298,
   "metadata": {},
   "outputs": [],
   "source": [
    "import json\n",
    "\n",
    "with open('artistsGenderFinal.json','w') as outfile:\n",
    "    json.dump(aGenderDict, outfile)"
   ]
  },
  {
   "cell_type": "markdown",
   "metadata": {},
   "source": [
    "### 4. Apendix: Band Classifier\n",
    "We tried to develop a band classifier from crowdsourcing Spotify similar to the gender classifier we developed above. However, we realized that there isn't enough band-specific playlists to get a significant sample of playlists that only have bands. Thus, we decided to delete bands manually to make sure that we were not deleting relevant artists from the playlist. "
   ]
  },
  {
   "cell_type": "markdown",
   "metadata": {},
   "source": [
    "We start by modifying our getPlaylists function to retrieve a number of playlists that we will determine."
   ]
  },
  {
   "cell_type": "code",
   "execution_count": 268,
   "metadata": {},
   "outputs": [],
   "source": [
    "def getPlaylistsByName(wordsList, num):\n",
    "    \"\"\"Returns all of the playlists IDs from Spotify related for a given query to the Spotify API\"\"\"\n",
    "    allIDs = []\n",
    "    for word in wordsList:\n",
    "        playlistIDs = []\n",
    "        results = sp.search(q=word, type='playlist', limit=50)\n",
    "        playlistIDs.extend([resID['id'] for resID in results['playlists']['items']])\n",
    "        offset = len(results['playlists']['items'])\n",
    "        while len(playlistIDs)<num:\n",
    "            results = sp.search(q=word, type='playlist', limit=50, offset=offset)\n",
    "            playlistIDs.extend([resID['id'] for resID in results['playlists']['items']])\n",
    "            offset = offset + len(results['playlists']['items'])\n",
    "        allIDs.extend(playlistIDs)\n",
    "    return allIDs"
   ]
  },
  {
   "cell_type": "markdown",
   "metadata": {},
   "source": [
    "The API search for top group doesn't retrieve more than 50 playlists, thus we will add a few more categories to retrieve a total of 150 playlists."
   ]
  },
  {
   "cell_type": "code",
   "execution_count": 269,
   "metadata": {},
   "outputs": [],
   "source": [
    "bandPlaylists = getPlaylistsByName(['top groups','boy bands','girl bands'],50)"
   ]
  },
  {
   "cell_type": "code",
   "execution_count": 270,
   "metadata": {},
   "outputs": [
    {
     "data": {
      "text/plain": [
       "150"
      ]
     },
     "execution_count": 270,
     "metadata": {},
     "output_type": "execute_result"
    }
   ],
   "source": [
    "len(bandPlaylists)"
   ]
  },
  {
   "cell_type": "markdown",
   "metadata": {},
   "source": [
    "We will now get the artist IDs for each playlist. However, we can notice that some of the playlists were repeated, and thus we will now have a total of 137 playlists."
   ]
  },
  {
   "cell_type": "code",
   "execution_count": 153,
   "metadata": {},
   "outputs": [],
   "source": [
    "bandIDs = playArtistDict(bandPlaylists)"
   ]
  },
  {
   "cell_type": "code",
   "execution_count": 272,
   "metadata": {},
   "outputs": [
    {
     "data": {
      "text/plain": [
       "137"
      ]
     },
     "execution_count": 272,
     "metadata": {},
     "output_type": "execute_result"
    }
   ],
   "source": [
    "len(bandIDs.keys())"
   ]
  },
  {
   "cell_type": "markdown",
   "metadata": {},
   "source": [
    "We can look at the number of playlists the artists in our Top Female Artists are,"
   ]
  },
  {
   "cell_type": "code",
   "execution_count": 273,
   "metadata": {},
   "outputs": [],
   "source": [
    "def bandClassif(artist):\n",
    "    counter = 0\n",
    "    for playlist in bandIDs.keys():\n",
    "        if artist in bandIDs[playlist]:\n",
    "            counter += 1\n",
    "            \n",
    "    return counter"
   ]
  },
  {
   "cell_type": "code",
   "execution_count": 274,
   "metadata": {},
   "outputs": [
    {
     "name": "stdout",
     "output_type": "stream",
     "text": [
      "TWICE / 24\n",
      "Madonna / 10\n",
      "Miley Cyrus / 4\n",
      "Selena Gomez / 7\n",
      "Lana Del Rey / 2\n",
      "J Balvin / 6\n",
      "Kehlani / 1\n",
      "SZA / 1\n",
      "Dua Lipa / 4\n",
      "KAROL G / 2\n",
      "Lady Gaga / 10\n",
      "Mabel / 2\n",
      "Bebe Rexha / 3\n",
      "Natti Natasha / 0\n",
      "P!nk / 10\n",
      "Little Mix / 17\n",
      "Billie Eilish / 3\n",
      "Nicki Minaj / 10\n",
      "Ava Max / 3\n",
      "Hailee Steinfeld / 2\n",
      "Taylor Swift / 5\n",
      "Katy Perry / 4\n",
      "BLACKPINK / 28\n",
      "Rita Ora / 2\n",
      "Fleetwood Mac / 9\n",
      "Jess Glynne / 1\n",
      "Alessia Cara / 1\n",
      "Anne-Marie / 2\n",
      "Adele / 4\n",
      "Beyoncé / 6\n",
      "Marília Mendonça / 0\n",
      "Zara Larsson / 4\n",
      "Black Eyed Peas / 7\n",
      "Britney Spears / 18\n",
      "Julia Michaels / 1\n",
      "Normani / 0\n",
      "Shakira / 5\n",
      "Halsey / 14\n",
      "Demi Lovato / 8\n",
      "Ellie Goulding / 1\n",
      "Cardi B / 5\n",
      "Camila Cabello / 2\n",
      "Freshlyground / 0\n",
      "Clean Bandit / 6\n",
      "Lizzo / 1\n",
      "Becky G / 2\n",
      "ROSALÍA / 0\n",
      "Bad Bunny / 1\n",
      "Sia / 3\n",
      "Ariana Grande / 2\n",
      "Whitney Houston / 6\n",
      "Anitta / 0\n",
      "Rihanna / 6\n"
     ]
    }
   ],
   "source": [
    "for artist in topFemaleArtists:\n",
    "    band = bandClassif(artist[1])\n",
    "    print(artist[0],'/',band)"
   ]
  },
  {
   "cell_type": "markdown",
   "metadata": {},
   "source": [
    "We can notice that there is not a significant difference between the number of playlists that popular bands such as TWICE (24) and Little Mix (17) appear and the number of playlists that well-known artists such as Britney Spears (18) appears. We want to make sure that we don't missclasify relevent artists such as Britney Spears or Lady Gaga, and that we are able to recognize less mainstream bands such as Freshlyground. Thus, we decided to manually review the list of artists to remove bands from our Today's Top Hits gender dictionary."
   ]
  },
  {
   "cell_type": "markdown",
   "metadata": {},
   "source": [
    "Deleting bands:"
   ]
  },
  {
   "cell_type": "code",
   "execution_count": 361,
   "metadata": {},
   "outputs": [],
   "source": [
    "bandsDel = [\"Goodboys\",\"A R I Z O N A\",\"Peach Tree Rascals\",\"Vargas & Lagola\",\"Disclosure\",\\\n",
    "         \"MEDUZA\",\"CHVRCHES\",\"Clean Bandit\",\"SHAED\",\"Major Lazer\",\"5 Seconds of Summer\",\\\n",
    "         \"Surfaces\",\"Wallows\",\"BROCKHAMPTON\",\"Panic! At The Disco\",\"Twenty One Pilots\",\\\n",
    "         \"Social House\",\"Internet Money\",\"Maroon 5\",\"OneRepublic\",\"Black Eyed Peas\",\"LANY\",\\\n",
    "         \"A Touch Of Class\",\"Quarterhead\",\"Death Stranding: Timefall\",\"THE SCOTTS\",\"BLACKPINK\",\\\n",
    "         \"BTS\",\"Fall Out Boy\",\"Coldplay\",\"Ofenbach\",\"The Neptunes\",\"The Black Eyed Peas\",\\\n",
    "         \"Dan + Shay\",\"A Day To Remember\",\"Why Don't We\"]"
   ]
  },
  {
   "cell_type": "code",
   "execution_count": 363,
   "metadata": {},
   "outputs": [
    {
     "data": {
      "text/plain": [
       "36"
      ]
     },
     "execution_count": 363,
     "metadata": {},
     "output_type": "execute_result"
    }
   ],
   "source": [
    "len(bandsDel)"
   ]
  },
  {
   "cell_type": "code",
   "execution_count": 373,
   "metadata": {},
   "outputs": [],
   "source": [
    "for band in bandsDel:\n",
    "    del aGenderDict[band]"
   ]
  },
  {
   "cell_type": "markdown",
   "metadata": {},
   "source": [
    "Saving the dictionary into a json file:"
   ]
  },
  {
   "cell_type": "code",
   "execution_count": 375,
   "metadata": {},
   "outputs": [],
   "source": [
    "import json\n",
    "\n",
    "with open('artistsGender.json','w') as outfile:\n",
    "    json.dump(aGenderDict, outfile)"
   ]
  },
  {
   "cell_type": "code",
   "execution_count": 357,
   "metadata": {},
   "outputs": [],
   "source": [
    "aGenderDict['JAY Z'] = 'male'\n",
    "aGenderDict['RAYE'] = 'female'\n",
    "aGenderDict['Alida'] = 'female'\n",
    "aGenderDict['iann dior'] = 'male'\n",
    "aGenderDict['SUGA'] = 'male'\n",
    "aGenderDict['salem ilese'] = 'female'\n",
    "aGenderDict['Gunna'] = 'male'\n",
    "aGenderDict['Anitta'] = 'female'\n",
    "aGenderDict['Emilee'] = 'female'\n",
    "aGenderDict['RANI'] = 'female'\n",
    "aGenderDict['R3HAB'] = 'male'\n",
    "aGenderDict['J. Rey Soul'] = 'female'\n",
    "aGenderDict['FKA twigs'] = 'female'"
   ]
  },
  {
   "cell_type": "markdown",
   "metadata": {},
   "source": [
    "We will create dataframes from the artists' data to be able to analyze the data."
   ]
  },
  {
   "cell_type": "code",
   "execution_count": 9,
   "metadata": {},
   "outputs": [],
   "source": [
    "import pandas as pd\n",
    "\n",
    "dfRb = pd.DataFrame(data= rbData, columns=['id', 'name', 'popularity', 'genres', 'followers'])\n",
    "dfHiphop = pd.DataFrame(data= hiphopData, columns=['id', 'name', 'popularity', 'genres', 'followers'])\n",
    "dfCountry = pd.DataFrame(data= countryData, columns=['id', 'name', 'popularity', 'genres', 'followers'])"
   ]
  },
  {
   "cell_type": "code",
   "execution_count": 367,
   "metadata": {},
   "outputs": [],
   "source": [
    "# Clara\n",
    "\n",
    "def genderDict2(artistDict):\n",
    "    \"\"\"Given a dictionary of names as keys and artist ids as values returns a dictionary of names\n",
    "    and gender for each artist\"\"\"\n",
    "    genderDict = {}\n",
    "    for artist in artistDict:\n",
    "        gender = getGenderV2(artist)\n",
    "        if gender == None:\n",
    "            gender = genderClassif2(artistDict[artist])\n",
    "        genderDict[artist] = [gender, artistDict[artist]]\n",
    "    return genderDict"
   ]
  },
  {
   "cell_type": "code",
   "execution_count": 368,
   "metadata": {},
   "outputs": [
    {
     "name": "stderr",
     "output_type": "stream",
     "text": [
      "WARNING: wikibase-lexeme datatype is not supported yet.\n",
      "WARNING: wikibase-lexeme datatype is not supported yet.\n",
      "WARNING: wikibase-form datatype is not supported yet.\n",
      "WARNING: wikibase-form datatype is not supported yet.\n",
      "WARNING: wikibase-lexeme datatype is not supported yet.\n",
      "WARNING: wikibase-lexeme datatype is not supported yet.\n",
      "WARNING: wikibase-lexeme datatype is not supported yet.\n",
      "WARNING: wikibase-lexeme datatype is not supported yet.\n",
      "WARNING: wikibase-lexeme datatype is not supported yet.\n",
      "WARNING: wikibase-lexeme datatype is not supported yet.\n"
     ]
    }
   ],
   "source": [
    "aGenderDict2 = genderDict2(aDict)"
   ]
  },
  {
   "cell_type": "code",
   "execution_count": 371,
   "metadata": {},
   "outputs": [],
   "source": [
    "aGenderDict2['JAY Z'] = ['male','3nFkdlSjzX9mRTtwJOzDYB']\n",
    "aGenderDict2['RAYE'] = ['female', '5KKpBU5eC2tJDzf0wmlRp2']\n",
    "aGenderDict2['Alida'] = ['female', '1kiq2kUV0cbLUhJsr7cpW0']\n",
    "aGenderDict2['iann dior'] = ['male', '6ASri4ePR7RlsvIQgWPJpS']\n",
    "aGenderDict2['SUGA'] = ['male', '0ebNdVaOfp6N0oZ1guIxM8']\n",
    "aGenderDict2['salem ilese'] = ['female', '3QJUFtGBGL05vo0kCJZsmT']\n",
    "aGenderDict2['Gunna'] = ['male', '2hlmm7s2ICUX0LVIhVFlZQ']\n",
    "aGenderDict2['Anitta'] = ['female', '7FNnA9vBm6EKceENgCGRMb']\n",
    "aGenderDict2['Social House'] = ['male', '5UjifI1TYefXWn9GdqDOHl']\n",
    "aGenderDict2['Emilee'] = ['female', '4ArPQ1Opcksbbf3CPwEjWE']\n",
    "aGenderDict2['RANI'] = ['female','3SYnDj7btg9gFY7ps8m5d5']\n",
    "aGenderDict2['R3HAB'] = ['male','6cEuCEZu7PAE9ZSzLLc2oQ']\n",
    "aGenderDict2['J. Rey Soul'] = ['female', '1OB278sOZVSFx5vXqYha83']\n",
    "aGenderDict2['FKA twigs'] = ['female', '6nB0iY1cjSY1KyhYyuIIKH']"
   ]
  },
  {
   "cell_type": "code",
   "execution_count": null,
   "metadata": {},
   "outputs": [],
   "source": []
  }
 ],
 "metadata": {
  "kernelspec": {
   "display_name": "Python 3",
   "language": "python",
   "name": "python3"
  },
  "language_info": {
   "codemirror_mode": {
    "name": "ipython",
    "version": 3
   },
   "file_extension": ".py",
   "mimetype": "text/x-python",
   "name": "python",
   "nbconvert_exporter": "python",
   "pygments_lexer": "ipython3",
   "version": "3.7.6"
  }
 },
 "nbformat": 4,
 "nbformat_minor": 4
}
